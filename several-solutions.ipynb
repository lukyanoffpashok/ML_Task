{
 "cells": [
  {
   "cell_type": "code",
   "execution_count": 1,
   "id": "9ab26865",
   "metadata": {
    "_cell_guid": "b1076dfc-b9ad-4769-8c92-a6c4dae69d19",
    "_uuid": "8f2839f25d086af736a60e9eeb907d3b93b6e0e5",
    "execution": {
     "iopub.execute_input": "2022-04-08T11:49:47.724269Z",
     "iopub.status.busy": "2022-04-08T11:49:47.723508Z",
     "iopub.status.idle": "2022-04-08T11:49:49.191121Z",
     "shell.execute_reply": "2022-04-08T11:49:49.190352Z",
     "shell.execute_reply.started": "2022-04-08T11:06:24.978587Z"
    },
    "papermill": {
     "duration": 1.50347,
     "end_time": "2022-04-08T11:49:49.191322",
     "exception": false,
     "start_time": "2022-04-08T11:49:47.687852",
     "status": "completed"
    },
    "tags": []
   },
   "outputs": [],
   "source": [
    "import numpy as np\n",
    "import pandas as pd\n",
    "import matplotlib.pyplot as plt\n",
    "from sklearn.preprocessing import OneHotEncoder, StandardScaler\n",
    "from sklearn.model_selection import train_test_split\n",
    "from sklearn.linear_model import LinearRegression, Ridge, Lasso\n",
    "from sklearn.metrics import mean_squared_error, mean_absolute_error, r2_score\n",
    "from sklearn.ensemble import GradientBoostingRegressor, RandomForestRegressor, AdaBoostRegressor\n",
    "from sklearn.svm import SVR\n",
    "import xgboost as xgb\n",
    "from collections import Counter"
   ]
  },
  {
   "cell_type": "code",
   "execution_count": 2,
   "id": "9e58e495",
   "metadata": {
    "execution": {
     "iopub.execute_input": "2022-04-08T11:49:49.242833Z",
     "iopub.status.busy": "2022-04-08T11:49:49.242142Z",
     "iopub.status.idle": "2022-04-08T11:49:49.297321Z",
     "shell.execute_reply": "2022-04-08T11:49:49.297891Z",
     "shell.execute_reply.started": "2022-04-08T11:04:01.467957Z"
    },
    "papermill": {
     "duration": 0.08372,
     "end_time": "2022-04-08T11:49:49.298108",
     "exception": false,
     "start_time": "2022-04-08T11:49:49.214388",
     "status": "completed"
    },
    "tags": []
   },
   "outputs": [
    {
     "data": {
      "text/html": [
       "<div>\n",
       "<style scoped>\n",
       "    .dataframe tbody tr th:only-of-type {\n",
       "        vertical-align: middle;\n",
       "    }\n",
       "\n",
       "    .dataframe tbody tr th {\n",
       "        vertical-align: top;\n",
       "    }\n",
       "\n",
       "    .dataframe thead th {\n",
       "        text-align: right;\n",
       "    }\n",
       "</style>\n",
       "<table border=\"1\" class=\"dataframe\">\n",
       "  <thead>\n",
       "    <tr style=\"text-align: right;\">\n",
       "      <th></th>\n",
       "      <th>laptop_ID</th>\n",
       "      <th>Company</th>\n",
       "      <th>Product</th>\n",
       "      <th>TypeName</th>\n",
       "      <th>Inches</th>\n",
       "      <th>ScreenResolution</th>\n",
       "      <th>Cpu</th>\n",
       "      <th>Ram</th>\n",
       "      <th>Memory</th>\n",
       "      <th>Gpu</th>\n",
       "      <th>OpSys</th>\n",
       "      <th>Weight</th>\n",
       "      <th>Price_euros</th>\n",
       "    </tr>\n",
       "  </thead>\n",
       "  <tbody>\n",
       "    <tr>\n",
       "      <th>0</th>\n",
       "      <td>1</td>\n",
       "      <td>Apple</td>\n",
       "      <td>MacBook Pro</td>\n",
       "      <td>Ultrabook</td>\n",
       "      <td>13.3</td>\n",
       "      <td>IPS Panel Retina Display 2560x1600</td>\n",
       "      <td>Intel Core i5 2.3GHz</td>\n",
       "      <td>8GB</td>\n",
       "      <td>128GB SSD</td>\n",
       "      <td>Intel Iris Plus Graphics 640</td>\n",
       "      <td>macOS</td>\n",
       "      <td>1.37kg</td>\n",
       "      <td>1339.69</td>\n",
       "    </tr>\n",
       "    <tr>\n",
       "      <th>1</th>\n",
       "      <td>2</td>\n",
       "      <td>Apple</td>\n",
       "      <td>Macbook Air</td>\n",
       "      <td>Ultrabook</td>\n",
       "      <td>13.3</td>\n",
       "      <td>1440x900</td>\n",
       "      <td>Intel Core i5 1.8GHz</td>\n",
       "      <td>8GB</td>\n",
       "      <td>128GB Flash Storage</td>\n",
       "      <td>Intel HD Graphics 6000</td>\n",
       "      <td>macOS</td>\n",
       "      <td>1.34kg</td>\n",
       "      <td>898.94</td>\n",
       "    </tr>\n",
       "    <tr>\n",
       "      <th>2</th>\n",
       "      <td>3</td>\n",
       "      <td>HP</td>\n",
       "      <td>250 G6</td>\n",
       "      <td>Notebook</td>\n",
       "      <td>15.6</td>\n",
       "      <td>Full HD 1920x1080</td>\n",
       "      <td>Intel Core i5 7200U 2.5GHz</td>\n",
       "      <td>8GB</td>\n",
       "      <td>256GB SSD</td>\n",
       "      <td>Intel HD Graphics 620</td>\n",
       "      <td>No OS</td>\n",
       "      <td>1.86kg</td>\n",
       "      <td>575.00</td>\n",
       "    </tr>\n",
       "    <tr>\n",
       "      <th>3</th>\n",
       "      <td>4</td>\n",
       "      <td>Apple</td>\n",
       "      <td>MacBook Pro</td>\n",
       "      <td>Ultrabook</td>\n",
       "      <td>15.4</td>\n",
       "      <td>IPS Panel Retina Display 2880x1800</td>\n",
       "      <td>Intel Core i7 2.7GHz</td>\n",
       "      <td>16GB</td>\n",
       "      <td>512GB SSD</td>\n",
       "      <td>AMD Radeon Pro 455</td>\n",
       "      <td>macOS</td>\n",
       "      <td>1.83kg</td>\n",
       "      <td>2537.45</td>\n",
       "    </tr>\n",
       "    <tr>\n",
       "      <th>4</th>\n",
       "      <td>5</td>\n",
       "      <td>Apple</td>\n",
       "      <td>MacBook Pro</td>\n",
       "      <td>Ultrabook</td>\n",
       "      <td>13.3</td>\n",
       "      <td>IPS Panel Retina Display 2560x1600</td>\n",
       "      <td>Intel Core i5 3.1GHz</td>\n",
       "      <td>8GB</td>\n",
       "      <td>256GB SSD</td>\n",
       "      <td>Intel Iris Plus Graphics 650</td>\n",
       "      <td>macOS</td>\n",
       "      <td>1.37kg</td>\n",
       "      <td>1803.60</td>\n",
       "    </tr>\n",
       "    <tr>\n",
       "      <th>5</th>\n",
       "      <td>6</td>\n",
       "      <td>Acer</td>\n",
       "      <td>Aspire 3</td>\n",
       "      <td>Notebook</td>\n",
       "      <td>15.6</td>\n",
       "      <td>1366x768</td>\n",
       "      <td>AMD A9-Series 9420 3GHz</td>\n",
       "      <td>4GB</td>\n",
       "      <td>500GB HDD</td>\n",
       "      <td>AMD Radeon R5</td>\n",
       "      <td>Windows 10</td>\n",
       "      <td>2.1kg</td>\n",
       "      <td>400.00</td>\n",
       "    </tr>\n",
       "    <tr>\n",
       "      <th>6</th>\n",
       "      <td>7</td>\n",
       "      <td>Apple</td>\n",
       "      <td>MacBook Pro</td>\n",
       "      <td>Ultrabook</td>\n",
       "      <td>15.4</td>\n",
       "      <td>IPS Panel Retina Display 2880x1800</td>\n",
       "      <td>Intel Core i7 2.2GHz</td>\n",
       "      <td>16GB</td>\n",
       "      <td>256GB Flash Storage</td>\n",
       "      <td>Intel Iris Pro Graphics</td>\n",
       "      <td>Mac OS X</td>\n",
       "      <td>2.04kg</td>\n",
       "      <td>2139.97</td>\n",
       "    </tr>\n",
       "    <tr>\n",
       "      <th>7</th>\n",
       "      <td>8</td>\n",
       "      <td>Apple</td>\n",
       "      <td>Macbook Air</td>\n",
       "      <td>Ultrabook</td>\n",
       "      <td>13.3</td>\n",
       "      <td>1440x900</td>\n",
       "      <td>Intel Core i5 1.8GHz</td>\n",
       "      <td>8GB</td>\n",
       "      <td>256GB Flash Storage</td>\n",
       "      <td>Intel HD Graphics 6000</td>\n",
       "      <td>macOS</td>\n",
       "      <td>1.34kg</td>\n",
       "      <td>1158.70</td>\n",
       "    </tr>\n",
       "    <tr>\n",
       "      <th>8</th>\n",
       "      <td>9</td>\n",
       "      <td>Asus</td>\n",
       "      <td>ZenBook UX430UN</td>\n",
       "      <td>Ultrabook</td>\n",
       "      <td>14.0</td>\n",
       "      <td>Full HD 1920x1080</td>\n",
       "      <td>Intel Core i7 8550U 1.8GHz</td>\n",
       "      <td>16GB</td>\n",
       "      <td>512GB SSD</td>\n",
       "      <td>Nvidia GeForce MX150</td>\n",
       "      <td>Windows 10</td>\n",
       "      <td>1.3kg</td>\n",
       "      <td>1495.00</td>\n",
       "    </tr>\n",
       "    <tr>\n",
       "      <th>9</th>\n",
       "      <td>10</td>\n",
       "      <td>Acer</td>\n",
       "      <td>Swift 3</td>\n",
       "      <td>Ultrabook</td>\n",
       "      <td>14.0</td>\n",
       "      <td>IPS Panel Full HD 1920x1080</td>\n",
       "      <td>Intel Core i5 8250U 1.6GHz</td>\n",
       "      <td>8GB</td>\n",
       "      <td>256GB SSD</td>\n",
       "      <td>Intel UHD Graphics 620</td>\n",
       "      <td>Windows 10</td>\n",
       "      <td>1.6kg</td>\n",
       "      <td>770.00</td>\n",
       "    </tr>\n",
       "  </tbody>\n",
       "</table>\n",
       "</div>"
      ],
      "text/plain": [
       "   laptop_ID Company          Product   TypeName  Inches  \\\n",
       "0          1   Apple      MacBook Pro  Ultrabook    13.3   \n",
       "1          2   Apple      Macbook Air  Ultrabook    13.3   \n",
       "2          3      HP           250 G6   Notebook    15.6   \n",
       "3          4   Apple      MacBook Pro  Ultrabook    15.4   \n",
       "4          5   Apple      MacBook Pro  Ultrabook    13.3   \n",
       "5          6    Acer         Aspire 3   Notebook    15.6   \n",
       "6          7   Apple      MacBook Pro  Ultrabook    15.4   \n",
       "7          8   Apple      Macbook Air  Ultrabook    13.3   \n",
       "8          9    Asus  ZenBook UX430UN  Ultrabook    14.0   \n",
       "9         10    Acer          Swift 3  Ultrabook    14.0   \n",
       "\n",
       "                     ScreenResolution                         Cpu   Ram  \\\n",
       "0  IPS Panel Retina Display 2560x1600        Intel Core i5 2.3GHz   8GB   \n",
       "1                            1440x900        Intel Core i5 1.8GHz   8GB   \n",
       "2                   Full HD 1920x1080  Intel Core i5 7200U 2.5GHz   8GB   \n",
       "3  IPS Panel Retina Display 2880x1800        Intel Core i7 2.7GHz  16GB   \n",
       "4  IPS Panel Retina Display 2560x1600        Intel Core i5 3.1GHz   8GB   \n",
       "5                            1366x768     AMD A9-Series 9420 3GHz   4GB   \n",
       "6  IPS Panel Retina Display 2880x1800        Intel Core i7 2.2GHz  16GB   \n",
       "7                            1440x900        Intel Core i5 1.8GHz   8GB   \n",
       "8                   Full HD 1920x1080  Intel Core i7 8550U 1.8GHz  16GB   \n",
       "9         IPS Panel Full HD 1920x1080  Intel Core i5 8250U 1.6GHz   8GB   \n",
       "\n",
       "                Memory                           Gpu       OpSys  Weight  \\\n",
       "0            128GB SSD  Intel Iris Plus Graphics 640       macOS  1.37kg   \n",
       "1  128GB Flash Storage        Intel HD Graphics 6000       macOS  1.34kg   \n",
       "2            256GB SSD         Intel HD Graphics 620       No OS  1.86kg   \n",
       "3            512GB SSD            AMD Radeon Pro 455       macOS  1.83kg   \n",
       "4            256GB SSD  Intel Iris Plus Graphics 650       macOS  1.37kg   \n",
       "5            500GB HDD                 AMD Radeon R5  Windows 10   2.1kg   \n",
       "6  256GB Flash Storage       Intel Iris Pro Graphics    Mac OS X  2.04kg   \n",
       "7  256GB Flash Storage        Intel HD Graphics 6000       macOS  1.34kg   \n",
       "8            512GB SSD          Nvidia GeForce MX150  Windows 10   1.3kg   \n",
       "9            256GB SSD        Intel UHD Graphics 620  Windows 10   1.6kg   \n",
       "\n",
       "   Price_euros  \n",
       "0      1339.69  \n",
       "1       898.94  \n",
       "2       575.00  \n",
       "3      2537.45  \n",
       "4      1803.60  \n",
       "5       400.00  \n",
       "6      2139.97  \n",
       "7      1158.70  \n",
       "8      1495.00  \n",
       "9       770.00  "
      ]
     },
     "execution_count": 2,
     "metadata": {},
     "output_type": "execute_result"
    }
   ],
   "source": [
    "data = pd.read_csv('/kaggle/input/laptop-price/laptop_price.csv', encoding = 'latin-1')\n",
    "data.head(10)"
   ]
  },
  {
   "cell_type": "code",
   "execution_count": 3,
   "id": "466d0608",
   "metadata": {
    "execution": {
     "iopub.execute_input": "2022-04-08T11:49:49.376507Z",
     "iopub.status.busy": "2022-04-08T11:49:49.375472Z",
     "iopub.status.idle": "2022-04-08T11:49:49.378947Z",
     "shell.execute_reply": "2022-04-08T11:49:49.379470Z",
     "shell.execute_reply.started": "2022-04-08T11:04:02.543669Z"
    },
    "papermill": {
     "duration": 0.055198,
     "end_time": "2022-04-08T11:49:49.379651",
     "exception": false,
     "start_time": "2022-04-08T11:49:49.324453",
     "status": "completed"
    },
    "tags": []
   },
   "outputs": [
    {
     "name": "stdout",
     "output_type": "stream",
     "text": [
      "<class 'pandas.core.frame.DataFrame'>\n",
      "RangeIndex: 1303 entries, 0 to 1302\n",
      "Data columns (total 13 columns):\n",
      " #   Column            Non-Null Count  Dtype  \n",
      "---  ------            --------------  -----  \n",
      " 0   laptop_ID         1303 non-null   int64  \n",
      " 1   Company           1303 non-null   object \n",
      " 2   Product           1303 non-null   object \n",
      " 3   TypeName          1303 non-null   object \n",
      " 4   Inches            1303 non-null   float64\n",
      " 5   ScreenResolution  1303 non-null   object \n",
      " 6   Cpu               1303 non-null   object \n",
      " 7   Ram               1303 non-null   object \n",
      " 8   Memory            1303 non-null   object \n",
      " 9   Gpu               1303 non-null   object \n",
      " 10  OpSys             1303 non-null   object \n",
      " 11  Weight            1303 non-null   object \n",
      " 12  Price_euros       1303 non-null   float64\n",
      "dtypes: float64(2), int64(1), object(10)\n",
      "memory usage: 132.5+ KB\n"
     ]
    }
   ],
   "source": [
    "data.info()"
   ]
  },
  {
   "cell_type": "code",
   "execution_count": 4,
   "id": "d50d12dc",
   "metadata": {
    "execution": {
     "iopub.execute_input": "2022-04-08T11:49:49.442787Z",
     "iopub.status.busy": "2022-04-08T11:49:49.436445Z",
     "iopub.status.idle": "2022-04-08T11:49:49.447112Z",
     "shell.execute_reply": "2022-04-08T11:49:49.446459Z",
     "shell.execute_reply.started": "2022-04-08T10:31:48.90523Z"
    },
    "papermill": {
     "duration": 0.043103,
     "end_time": "2022-04-08T11:49:49.447270",
     "exception": false,
     "start_time": "2022-04-08T11:49:49.404167",
     "status": "completed"
    },
    "tags": []
   },
   "outputs": [
    {
     "data": {
      "text/plain": [
       "(1303, 12)"
      ]
     },
     "execution_count": 4,
     "metadata": {},
     "output_type": "execute_result"
    }
   ],
   "source": [
    "data = data.dropna()\n",
    "data = data.drop(columns = ['laptop_ID'])\n",
    "data.shape"
   ]
  },
  {
   "cell_type": "code",
   "execution_count": 5,
   "id": "f5827936",
   "metadata": {
    "execution": {
     "iopub.execute_input": "2022-04-08T11:49:49.500692Z",
     "iopub.status.busy": "2022-04-08T11:49:49.499960Z",
     "iopub.status.idle": "2022-04-08T11:49:49.506362Z",
     "shell.execute_reply": "2022-04-08T11:49:49.506943Z",
     "shell.execute_reply.started": "2022-04-08T10:32:29.907385Z"
    },
    "papermill": {
     "duration": 0.034689,
     "end_time": "2022-04-08T11:49:49.507158",
     "exception": false,
     "start_time": "2022-04-08T11:49:49.472469",
     "status": "completed"
    },
    "tags": []
   },
   "outputs": [],
   "source": [
    "# Task - predict laptop price \n",
    "y = np.array(data['Price_euros'])\n",
    "data = data.drop(columns = ['Price_euros'])"
   ]
  },
  {
   "cell_type": "code",
   "execution_count": 6,
   "id": "490731e4",
   "metadata": {
    "execution": {
     "iopub.execute_input": "2022-04-08T11:49:49.562659Z",
     "iopub.status.busy": "2022-04-08T11:49:49.561889Z",
     "iopub.status.idle": "2022-04-08T11:49:49.565824Z",
     "shell.execute_reply": "2022-04-08T11:49:49.566420Z",
     "shell.execute_reply.started": "2022-04-08T10:32:31.169512Z"
    },
    "papermill": {
     "duration": 0.03493,
     "end_time": "2022-04-08T11:49:49.566604",
     "exception": false,
     "start_time": "2022-04-08T11:49:49.531674",
     "status": "completed"
    },
    "tags": []
   },
   "outputs": [
    {
     "data": {
      "text/plain": [
       "Index(['Company', 'Product', 'TypeName', 'Inches', 'ScreenResolution', 'Cpu',\n",
       "       'Ram', 'Memory', 'Gpu', 'OpSys', 'Weight'],\n",
       "      dtype='object')"
      ]
     },
     "execution_count": 6,
     "metadata": {},
     "output_type": "execute_result"
    }
   ],
   "source": [
    "data.columns"
   ]
  },
  {
   "cell_type": "code",
   "execution_count": 7,
   "id": "7c53db43",
   "metadata": {
    "execution": {
     "iopub.execute_input": "2022-04-08T11:49:49.620959Z",
     "iopub.status.busy": "2022-04-08T11:49:49.619939Z",
     "iopub.status.idle": "2022-04-08T11:49:49.627198Z",
     "shell.execute_reply": "2022-04-08T11:49:49.627847Z",
     "shell.execute_reply.started": "2022-04-08T10:32:32.455485Z"
    },
    "papermill": {
     "duration": 0.036352,
     "end_time": "2022-04-08T11:49:49.628067",
     "exception": false,
     "start_time": "2022-04-08T11:49:49.591715",
     "status": "completed"
    },
    "tags": []
   },
   "outputs": [],
   "source": [
    "# Preprocessing\n",
    "ram1 = list(data['Ram'])\n",
    "ram2 = []\n",
    "for i in range(data.shape[0]):\n",
    "    ram2.append(float(ram1[i].replace('GB', '')))\n",
    "ram2 = np.array(ram2)"
   ]
  },
  {
   "cell_type": "code",
   "execution_count": 8,
   "id": "ff09bd7d",
   "metadata": {
    "execution": {
     "iopub.execute_input": "2022-04-08T11:49:49.683632Z",
     "iopub.status.busy": "2022-04-08T11:49:49.682445Z",
     "iopub.status.idle": "2022-04-08T11:49:49.690079Z",
     "shell.execute_reply": "2022-04-08T11:49:49.690661Z",
     "shell.execute_reply.started": "2022-04-08T10:32:33.169701Z"
    },
    "papermill": {
     "duration": 0.037607,
     "end_time": "2022-04-08T11:49:49.690843",
     "exception": false,
     "start_time": "2022-04-08T11:49:49.653236",
     "status": "completed"
    },
    "tags": []
   },
   "outputs": [],
   "source": [
    "weight1 = list(data['Weight'])\n",
    "weight2 = []\n",
    "for i in range(data.shape[0]):\n",
    "    weight2.append(float(weight1[i].replace('kg', '')))\n",
    "weight2 = np.array(weight2)"
   ]
  },
  {
   "cell_type": "code",
   "execution_count": 9,
   "id": "de1b2e2e",
   "metadata": {
    "execution": {
     "iopub.execute_input": "2022-04-08T11:49:49.745087Z",
     "iopub.status.busy": "2022-04-08T11:49:49.744047Z",
     "iopub.status.idle": "2022-04-08T11:49:49.750246Z",
     "shell.execute_reply": "2022-04-08T11:49:49.750800Z",
     "shell.execute_reply.started": "2022-04-08T10:32:33.980929Z"
    },
    "papermill": {
     "duration": 0.035057,
     "end_time": "2022-04-08T11:49:49.750984",
     "exception": false,
     "start_time": "2022-04-08T11:49:49.715927",
     "status": "completed"
    },
    "tags": []
   },
   "outputs": [],
   "source": [
    "inches2 = np.array(data['Inches'])\n",
    "data = data.drop(columns = ['Inches', 'Ram', 'Weight'])"
   ]
  },
  {
   "cell_type": "code",
   "execution_count": 10,
   "id": "2156c288",
   "metadata": {
    "execution": {
     "iopub.execute_input": "2022-04-08T11:49:49.805650Z",
     "iopub.status.busy": "2022-04-08T11:49:49.804638Z",
     "iopub.status.idle": "2022-04-08T11:49:50.322877Z",
     "shell.execute_reply": "2022-04-08T11:49:50.323434Z",
     "shell.execute_reply.started": "2022-04-08T11:26:34.198486Z"
    },
    "papermill": {
     "duration": 0.547135,
     "end_time": "2022-04-08T11:49:50.323675",
     "exception": false,
     "start_time": "2022-04-08T11:49:49.776540",
     "status": "completed"
    },
    "tags": []
   },
   "outputs": [
    {
     "data": {
      "image/png": "[encoded data removed]",
      "text/plain": [
       "<Figure size 1440x432 with 3 Axes>"
      ]
     },
     "metadata": {
      "needs_background": "light"
     },
     "output_type": "display_data"
    }
   ],
   "source": [
    "# Scatter plot\n",
    "fig, (ax0, ax1, ax2) = plt.subplots(nrows=1, ncols=3, sharex=True,\n",
    "                                    figsize=(20, 6))\n",
    "ax0.set_title('Ram - Price_euros')\n",
    "ax0.scatter(ram2, y)\n",
    "ax0.set_xlabel('Ram')\n",
    "ax0.set_ylabel('Price_euros')\n",
    "\n",
    "ax1.set_title('Weight - Price_euros')\n",
    "ax1.scatter(weight2, y)\n",
    "ax1.set_xlabel('Weight')\n",
    "ax1.set_ylabel('Price_euros')\n",
    "\n",
    "ax2.set_title('Inches - Price_euros')\n",
    "ax2.scatter(inches2, y)\n",
    "ax2.set_xlabel('Inches')\n",
    "ax2.set_ylabel('Price_euros')\n",
    "\n",
    "plt.show()"
   ]
  },
  {
   "cell_type": "code",
   "execution_count": 11,
   "id": "6041e0b3",
   "metadata": {
    "execution": {
     "iopub.execute_input": "2022-04-08T11:49:50.395624Z",
     "iopub.status.busy": "2022-04-08T11:49:50.394524Z",
     "iopub.status.idle": "2022-04-08T11:49:50.411279Z",
     "shell.execute_reply": "2022-04-08T11:49:50.410673Z",
     "shell.execute_reply.started": "2022-04-08T10:32:34.659335Z"
    },
    "papermill": {
     "duration": 0.059526,
     "end_time": "2022-04-08T11:49:50.411441",
     "exception": false,
     "start_time": "2022-04-08T11:49:50.351915",
     "status": "completed"
    },
    "tags": []
   },
   "outputs": [],
   "source": [
    "# Encode categorical features\n",
    "encoder = OneHotEncoder()\n",
    "data = encoder.fit_transform(data)\n",
    "data = data.toarray()"
   ]
  },
  {
   "cell_type": "code",
   "execution_count": 12,
   "id": "d5a4adaa",
   "metadata": {
    "execution": {
     "iopub.execute_input": "2022-04-08T11:49:50.470833Z",
     "iopub.status.busy": "2022-04-08T11:49:50.469355Z",
     "iopub.status.idle": "2022-04-08T11:49:50.476009Z",
     "shell.execute_reply": "2022-04-08T11:49:50.476516Z",
     "shell.execute_reply.started": "2022-04-08T10:32:36.725888Z"
    },
    "papermill": {
     "duration": 0.03921,
     "end_time": "2022-04-08T11:49:50.476699",
     "exception": false,
     "start_time": "2022-04-08T11:49:50.437489",
     "status": "completed"
    },
    "tags": []
   },
   "outputs": [],
   "source": [
    "X = np.concatenate((data, inches2[:, np.newaxis], ram2[:, np.newaxis], weight2[:, np.newaxis]), axis = 1)"
   ]
  },
  {
   "cell_type": "code",
   "execution_count": 13,
   "id": "ceb4e7fc",
   "metadata": {
    "execution": {
     "iopub.execute_input": "2022-04-08T11:49:50.537514Z",
     "iopub.status.busy": "2022-04-08T11:49:50.536535Z",
     "iopub.status.idle": "2022-04-08T11:49:50.539930Z",
     "shell.execute_reply": "2022-04-08T11:49:50.540435Z",
     "shell.execute_reply.started": "2022-04-08T10:32:37.575053Z"
    },
    "papermill": {
     "duration": 0.037015,
     "end_time": "2022-04-08T11:49:50.540601",
     "exception": false,
     "start_time": "2022-04-08T11:49:50.503586",
     "status": "completed"
    },
    "tags": []
   },
   "outputs": [
    {
     "data": {
      "text/plain": [
       "(1303, 962)"
      ]
     },
     "execution_count": 13,
     "metadata": {},
     "output_type": "execute_result"
    }
   ],
   "source": [
    "X.shape"
   ]
  },
  {
   "cell_type": "code",
   "execution_count": 14,
   "id": "9804c9c2",
   "metadata": {
    "execution": {
     "iopub.execute_input": "2022-04-08T11:49:50.601502Z",
     "iopub.status.busy": "2022-04-08T11:49:50.599957Z",
     "iopub.status.idle": "2022-04-08T11:49:50.607865Z",
     "shell.execute_reply": "2022-04-08T11:49:50.608469Z",
     "shell.execute_reply.started": "2022-04-08T10:32:39.885238Z"
    },
    "papermill": {
     "duration": 0.041359,
     "end_time": "2022-04-08T11:49:50.608645",
     "exception": false,
     "start_time": "2022-04-08T11:49:50.567286",
     "status": "completed"
    },
    "tags": []
   },
   "outputs": [],
   "source": [
    "X_train, X_test, y_train, y_test = train_test_split(X, y, test_size=0.33, random_state=42)"
   ]
  },
  {
   "cell_type": "code",
   "execution_count": 15,
   "id": "cd075b3b",
   "metadata": {
    "execution": {
     "iopub.execute_input": "2022-04-08T11:49:50.665679Z",
     "iopub.status.busy": "2022-04-08T11:49:50.664654Z",
     "iopub.status.idle": "2022-04-08T11:49:50.809740Z",
     "shell.execute_reply": "2022-04-08T11:49:50.810791Z",
     "shell.execute_reply.started": "2022-04-08T10:32:48.301393Z"
    },
    "papermill": {
     "duration": 0.176021,
     "end_time": "2022-04-08T11:49:50.811122",
     "exception": false,
     "start_time": "2022-04-08T11:49:50.635101",
     "status": "completed"
    },
    "tags": []
   },
   "outputs": [
    {
     "name": "stdout",
     "output_type": "stream",
     "text": [
      "R2: 0.8803367654970733\n",
      "mse: 64070.59034568524\n",
      "mae: 174.58759506713886\n"
     ]
    }
   ],
   "source": [
    "# Ridge regression\n",
    "model = Ridge()\n",
    "model.fit(X_train, y_train)\n",
    "y_pred = model.predict(X_test)\n",
    "print('R2:', r2_score(y_test, y_pred))\n",
    "print('mse:', mean_squared_error(y_test, y_pred))\n",
    "print('mae:', mean_absolute_error(y_test, y_pred))"
   ]
  },
  {
   "cell_type": "code",
   "execution_count": 16,
   "id": "b303f7eb",
   "metadata": {
    "execution": {
     "iopub.execute_input": "2022-04-08T11:49:50.940511Z",
     "iopub.status.busy": "2022-04-08T11:49:50.936918Z",
     "iopub.status.idle": "2022-04-08T11:49:51.009461Z",
     "shell.execute_reply": "2022-04-08T11:49:51.010632Z",
     "shell.execute_reply.started": "2022-04-08T10:32:49.439168Z"
    },
    "papermill": {
     "duration": 0.113354,
     "end_time": "2022-04-08T11:49:51.010923",
     "exception": false,
     "start_time": "2022-04-08T11:49:50.897569",
     "status": "completed"
    },
    "tags": []
   },
   "outputs": [
    {
     "name": "stdout",
     "output_type": "stream",
     "text": [
      "R2: 0.831928136644965\n",
      "mse: 89989.74121323007\n",
      "mae: 211.43151020087257\n"
     ]
    }
   ],
   "source": [
    "# Lasso regression\n",
    "model = Lasso()\n",
    "model.fit(X_train, y_train)\n",
    "y_pred = model.predict(X_test)\n",
    "print('R2:', r2_score(y_test, y_pred))\n",
    "print('mse:', mean_squared_error(y_test, y_pred))\n",
    "print('mae:', mean_absolute_error(y_test, y_pred))"
   ]
  },
  {
   "cell_type": "code",
   "execution_count": 17,
   "id": "ab1c898c",
   "metadata": {
    "execution": {
     "iopub.execute_input": "2022-04-08T11:49:51.143587Z",
     "iopub.status.busy": "2022-04-08T11:49:51.142159Z",
     "iopub.status.idle": "2022-04-08T11:49:51.706723Z",
     "shell.execute_reply": "2022-04-08T11:49:51.707517Z",
     "shell.execute_reply.started": "2022-04-08T10:32:53.359715Z"
    },
    "papermill": {
     "duration": 0.602873,
     "end_time": "2022-04-08T11:49:51.707698",
     "exception": false,
     "start_time": "2022-04-08T11:49:51.104825",
     "status": "completed"
    },
    "tags": []
   },
   "outputs": [
    {
     "name": "stdout",
     "output_type": "stream",
     "text": [
      "R2: 0.016593876658251294\n",
      "mse: 526539.4265314346\n",
      "mae: 503.2037140030953\n"
     ]
    }
   ],
   "source": [
    "# Epsilon-Support Vector Regression\n",
    "model = SVR()\n",
    "model.fit(X_train, y_train)\n",
    "y_pred = model.predict(X_test)\n",
    "print('R2:', r2_score(y_test, y_pred))\n",
    "print('mse:', mean_squared_error(y_test, y_pred))\n",
    "print('mae:', mean_absolute_error(y_test, y_pred))"
   ]
  },
  {
   "cell_type": "code",
   "execution_count": 18,
   "id": "2591250f",
   "metadata": {
    "execution": {
     "iopub.execute_input": "2022-04-08T11:49:51.767861Z",
     "iopub.status.busy": "2022-04-08T11:49:51.766860Z",
     "iopub.status.idle": "2022-04-08T11:49:52.747752Z",
     "shell.execute_reply": "2022-04-08T11:49:52.747059Z",
     "shell.execute_reply.started": "2022-04-08T10:32:59.468565Z"
    },
    "papermill": {
     "duration": 1.012073,
     "end_time": "2022-04-08T11:49:52.747902",
     "exception": false,
     "start_time": "2022-04-08T11:49:51.735829",
     "status": "completed"
    },
    "tags": []
   },
   "outputs": [
    {
     "name": "stdout",
     "output_type": "stream",
     "text": [
      "R2: 0.8307711179597765\n",
      "mse: 90609.23700497382\n",
      "mae: 209.62665427886384\n"
     ]
    }
   ],
   "source": [
    "# Gradient Boosting\n",
    "model = GradientBoostingRegressor()\n",
    "model.fit(X_train, y_train)\n",
    "y_pred = model.predict(X_test)\n",
    "print('R2:', r2_score(y_test, y_pred))\n",
    "print('mse:', mean_squared_error(y_test, y_pred))\n",
    "print('mae:', mean_absolute_error(y_test, y_pred))"
   ]
  },
  {
   "cell_type": "code",
   "execution_count": 19,
   "id": "4930a296",
   "metadata": {
    "execution": {
     "iopub.execute_input": "2022-04-08T11:49:52.814218Z",
     "iopub.status.busy": "2022-04-08T11:49:52.812951Z",
     "iopub.status.idle": "2022-04-08T11:49:54.743340Z",
     "shell.execute_reply": "2022-04-08T11:49:54.742731Z",
     "shell.execute_reply.started": "2022-04-08T10:33:02.275576Z"
    },
    "papermill": {
     "duration": 1.966478,
     "end_time": "2022-04-08T11:49:54.743503",
     "exception": false,
     "start_time": "2022-04-08T11:49:52.777025",
     "status": "completed"
    },
    "tags": []
   },
   "outputs": [
    {
     "name": "stdout",
     "output_type": "stream",
     "text": [
      "R2: 0.8261261228111374\n",
      "mse: 93096.27976762688\n",
      "mae: 193.532868744186\n"
     ]
    }
   ],
   "source": [
    "# Random Forest\n",
    "model = RandomForestRegressor()\n",
    "model.fit(X_train, y_train)\n",
    "y_pred = model.predict(X_test)\n",
    "print('R2:', r2_score(y_test, y_pred))\n",
    "print('mse:', mean_squared_error(y_test, y_pred))\n",
    "print('mae:', mean_absolute_error(y_test, y_pred))"
   ]
  },
  {
   "cell_type": "code",
   "execution_count": 20,
   "id": "4c69a8ad",
   "metadata": {
    "execution": {
     "iopub.execute_input": "2022-04-08T11:49:54.808742Z",
     "iopub.status.busy": "2022-04-08T11:49:54.807416Z",
     "iopub.status.idle": "2022-04-08T11:49:55.478144Z",
     "shell.execute_reply": "2022-04-08T11:49:55.478812Z",
     "shell.execute_reply.started": "2022-04-08T10:33:06.715449Z"
    },
    "papermill": {
     "duration": 0.706543,
     "end_time": "2022-04-08T11:49:55.479067",
     "exception": false,
     "start_time": "2022-04-08T11:49:54.772524",
     "status": "completed"
    },
    "tags": []
   },
   "outputs": [
    {
     "name": "stdout",
     "output_type": "stream",
     "text": [
      "R2: 0.5742595263325125\n",
      "mse: 227951.7480472287\n",
      "mae: 396.9984864718329\n"
     ]
    }
   ],
   "source": [
    "# Ada Boost\n",
    "model = AdaBoostRegressor()\n",
    "model.fit(X_train, y_train)\n",
    "y_pred = model.predict(X_test)\n",
    "print('R2:', r2_score(y_test, y_pred))\n",
    "print('mse:', mean_squared_error(y_test, y_pred))\n",
    "print('mae:', mean_absolute_error(y_test, y_pred))"
   ]
  },
  {
   "cell_type": "code",
   "execution_count": 21,
   "id": "ea8ae4b1",
   "metadata": {
    "execution": {
     "iopub.execute_input": "2022-04-08T11:49:55.544108Z",
     "iopub.status.busy": "2022-04-08T11:49:55.543437Z",
     "iopub.status.idle": "2022-04-08T11:49:57.534713Z",
     "shell.execute_reply": "2022-04-08T11:49:57.535665Z",
     "shell.execute_reply.started": "2022-04-08T10:33:18.534252Z"
    },
    "papermill": {
     "duration": 2.027005,
     "end_time": "2022-04-08T11:49:57.535921",
     "exception": false,
     "start_time": "2022-04-08T11:49:55.508916",
     "status": "completed"
    },
    "tags": []
   },
   "outputs": [
    {
     "name": "stdout",
     "output_type": "stream",
     "text": [
      "R2: 0.8519125753255192\n",
      "mse: 79289.58933024763\n",
      "mae: 188.47837437261538\n"
     ]
    }
   ],
   "source": [
    "# XGBoost Regression\n",
    "model = xgb.XGBRegressor()\n",
    "model.fit(X_train, y_train)\n",
    "y_pred = model.predict(X_test)\n",
    "print('R2:', r2_score(y_test, y_pred))\n",
    "print('mse:', mean_squared_error(y_test, y_pred))\n",
    "print('mae:', mean_absolute_error(y_test, y_pred))"
   ]
  },
  {
   "cell_type": "code",
   "execution_count": 22,
   "id": "dd039d51",
   "metadata": {
    "execution": {
     "iopub.execute_input": "2022-04-08T11:49:57.608682Z",
     "iopub.status.busy": "2022-04-08T11:49:57.607937Z",
     "iopub.status.idle": "2022-04-08T11:49:57.975231Z",
     "shell.execute_reply": "2022-04-08T11:49:57.975749Z",
     "shell.execute_reply.started": "2022-04-08T10:54:14.256837Z"
    },
    "papermill": {
     "duration": 0.407175,
     "end_time": "2022-04-08T11:49:57.975924",
     "exception": false,
     "start_time": "2022-04-08T11:49:57.568749",
     "status": "completed"
    },
    "tags": []
   },
   "outputs": [
    {
     "name": "stdout",
     "output_type": "stream",
     "text": [
      "R2: 0.8803367654970733\n",
      "mse: 64070.59034568524\n",
      "mae: 174.58759506713886\n"
     ]
    },
    {
     "data": {
      "image/png": "[encoded data removed]",
      "text/plain": [
       "<Figure size 720x432 with 1 Axes>"
      ]
     },
     "metadata": {
      "needs_background": "light"
     },
     "output_type": "display_data"
    }
   ],
   "source": [
    "#Best model - Ridge regression\n",
    "best_model = Ridge()\n",
    "best_model.fit(X_train, y_train)\n",
    "y_pred = best_model.predict(X_test)\n",
    "print('R2:', r2_score(y_test, y_pred))\n",
    "print('mse:', mean_squared_error(y_test, y_pred))\n",
    "print('mae:', mean_absolute_error(y_test, y_pred))\n",
    "plt.figure(figsize = (10, 6))\n",
    "plt.plot(np.arange(len(y_test)), y_test, label = 'y_test')\n",
    "plt.plot(np.arange(len(y_test)), y_pred, label = 'y_pred')\n",
    "plt.xlabel('')\n",
    "plt.ylabel('Price')\n",
    "plt.legend()\n",
    "plt.title('Comparison y_test and y_train')\n",
    "plt.show()"
   ]
  }
 ],
 "metadata": {
  "kernelspec": {
   "display_name": "Python 3",
   "language": "python",
   "name": "python3"
  },
  "language_info": {
   "codemirror_mode": {
    "name": "ipython",
    "version": 3
   },
   "file_extension": ".py",
   "mimetype": "text/x-python",
   "name": "python",
   "nbconvert_exporter": "python",
   "pygments_lexer": "ipython3",
   "version": "3.7.12"
  },
  "papermill": {
   "default_parameters": {},
   "duration": 21.534447,
   "end_time": "2022-04-08T11:49:58.820303",
   "environment_variables": {},
   "exception": null,
   "input_path": "__notebook__.ipynb",
   "output_path": "__notebook__.ipynb",
   "parameters": {},
   "start_time": "2022-04-08T11:49:37.285856",
   "version": "2.3.3"
  }
 },
 "nbformat": 4,
 "nbformat_minor": 5
}
